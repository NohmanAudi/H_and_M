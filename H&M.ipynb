{
  "nbformat": 4,
  "nbformat_minor": 0,
  "metadata": {
    "colab": {
      "name": "H&M.ipynb",
      "provenance": [],
      "collapsed_sections": [],
      "mount_file_id": "1jW4WSgsMplFYclcyx-GHRPOez7IQz6Bv",
      "authorship_tag": "ABX9TyNkB6oM0jkPGdjxeI+raIUv",
      "include_colab_link": true
    },
    "kernelspec": {
      "name": "python3",
      "display_name": "Python 3"
    },
    "language_info": {
      "name": "python"
    }
  },
  "cells": [
    {
      "cell_type": "markdown",
      "metadata": {
        "id": "view-in-github",
        "colab_type": "text"
      },
      "source": [
        "<a href=\"https://colab.research.google.com/github/NohmanAudi/H_and_M/blob/main/H%26M.ipynb\" target=\"_parent\"><img src=\"https://colab.research.google.com/assets/colab-badge.svg\" alt=\"Open In Colab\"/></a>"
      ]
    },
    {
      "cell_type": "code",
      "execution_count": null,
      "metadata": {
        "id": "tY-yJzyajZlS"
      },
      "outputs": [],
      "source": [
        "! pip install kaggle\n",
        "! mkdir ~/.kaggle\n",
        "! cp kaggle.json ~/.kaggle/\n",
        "! chmod 600 ~/.kaggle/kaggle.json\n",
        "! kaggle competitions download h-and-m-personalized-fashion-recommendations\n",
        "! unzip h-and-m-personalized-fashion-recommendations.zip"
      ]
    },
    {
      "cell_type": "code",
      "source": [
        "import numpy as np\n",
        "import pandas as pd\n",
        "import matplotlib.pyplot as plt\n",
        "from datetime import datetime\n",
        "import os"
      ],
      "metadata": {
        "id": "it1mts9MmMEc"
      },
      "execution_count": 3,
      "outputs": []
    },
    {
      "cell_type": "code",
      "source": [
        "transactions = pd.read_csv(\"/content/drive/MyDrive/HM_data/transactions_train.csv\")\n",
        "#articles = pd.read_csv(\"articles.csv\")\n",
        "#customers = pd.read_csv(\"customers.csv\")\n",
        "#sample = pd.read_csv(os.path.join(DIR, \"sample_submission.csv\"))"
      ],
      "metadata": {
        "id": "XlayGrUikwvL"
      },
      "execution_count": 4,
      "outputs": []
    },
    {
      "cell_type": "markdown",
      "source": [
        "**Starting with exploration of each dataset to get familiar with the data**"
      ],
      "metadata": {
        "id": "g_o8dSyszNlE"
      }
    },
    {
      "cell_type": "markdown",
      "source": [
        "# Transactions Data"
      ],
      "metadata": {
        "id": "CKumIyLizUyb"
      }
    },
    {
      "cell_type": "code",
      "source": [
        "#Exploring the transactions data\n",
        "transactions.head(3)"
      ],
      "metadata": {
        "id": "aBMQM8-smbpn",
        "colab": {
          "base_uri": "https://localhost:8080/",
          "height": 143
        },
        "outputId": "54f5ad7b-02a2-4576-a396-d4749ea035ae"
      },
      "execution_count": 5,
      "outputs": [
        {
          "output_type": "execute_result",
          "data": {
            "text/plain": [
              "        t_dat                                        customer_id  article_id  \\\n",
              "0  2018-09-20  000058a12d5b43e67d225668fa1f8d618c13dc232df0ca...   663713001   \n",
              "1  2018-09-20  000058a12d5b43e67d225668fa1f8d618c13dc232df0ca...   541518023   \n",
              "2  2018-09-20  00007d2de826758b65a93dd24ce629ed66842531df6699...   505221004   \n",
              "\n",
              "      price  sales_channel_id  \n",
              "0  0.050831                 2  \n",
              "1  0.030492                 2  \n",
              "2  0.015237                 2  "
            ],
            "text/html": [
              "\n",
              "  <div id=\"df-c4d88ff6-0e13-4bc7-bb04-6b11c57ddb5a\">\n",
              "    <div class=\"colab-df-container\">\n",
              "      <div>\n",
              "<style scoped>\n",
              "    .dataframe tbody tr th:only-of-type {\n",
              "        vertical-align: middle;\n",
              "    }\n",
              "\n",
              "    .dataframe tbody tr th {\n",
              "        vertical-align: top;\n",
              "    }\n",
              "\n",
              "    .dataframe thead th {\n",
              "        text-align: right;\n",
              "    }\n",
              "</style>\n",
              "<table border=\"1\" class=\"dataframe\">\n",
              "  <thead>\n",
              "    <tr style=\"text-align: right;\">\n",
              "      <th></th>\n",
              "      <th>t_dat</th>\n",
              "      <th>customer_id</th>\n",
              "      <th>article_id</th>\n",
              "      <th>price</th>\n",
              "      <th>sales_channel_id</th>\n",
              "    </tr>\n",
              "  </thead>\n",
              "  <tbody>\n",
              "    <tr>\n",
              "      <th>0</th>\n",
              "      <td>2018-09-20</td>\n",
              "      <td>000058a12d5b43e67d225668fa1f8d618c13dc232df0ca...</td>\n",
              "      <td>663713001</td>\n",
              "      <td>0.050831</td>\n",
              "      <td>2</td>\n",
              "    </tr>\n",
              "    <tr>\n",
              "      <th>1</th>\n",
              "      <td>2018-09-20</td>\n",
              "      <td>000058a12d5b43e67d225668fa1f8d618c13dc232df0ca...</td>\n",
              "      <td>541518023</td>\n",
              "      <td>0.030492</td>\n",
              "      <td>2</td>\n",
              "    </tr>\n",
              "    <tr>\n",
              "      <th>2</th>\n",
              "      <td>2018-09-20</td>\n",
              "      <td>00007d2de826758b65a93dd24ce629ed66842531df6699...</td>\n",
              "      <td>505221004</td>\n",
              "      <td>0.015237</td>\n",
              "      <td>2</td>\n",
              "    </tr>\n",
              "  </tbody>\n",
              "</table>\n",
              "</div>\n",
              "      <button class=\"colab-df-convert\" onclick=\"convertToInteractive('df-c4d88ff6-0e13-4bc7-bb04-6b11c57ddb5a')\"\n",
              "              title=\"Convert this dataframe to an interactive table.\"\n",
              "              style=\"display:none;\">\n",
              "        \n",
              "  <svg xmlns=\"http://www.w3.org/2000/svg\" height=\"24px\"viewBox=\"0 0 24 24\"\n",
              "       width=\"24px\">\n",
              "    <path d=\"M0 0h24v24H0V0z\" fill=\"none\"/>\n",
              "    <path d=\"M18.56 5.44l.94 2.06.94-2.06 2.06-.94-2.06-.94-.94-2.06-.94 2.06-2.06.94zm-11 1L8.5 8.5l.94-2.06 2.06-.94-2.06-.94L8.5 2.5l-.94 2.06-2.06.94zm10 10l.94 2.06.94-2.06 2.06-.94-2.06-.94-.94-2.06-.94 2.06-2.06.94z\"/><path d=\"M17.41 7.96l-1.37-1.37c-.4-.4-.92-.59-1.43-.59-.52 0-1.04.2-1.43.59L10.3 9.45l-7.72 7.72c-.78.78-.78 2.05 0 2.83L4 21.41c.39.39.9.59 1.41.59.51 0 1.02-.2 1.41-.59l7.78-7.78 2.81-2.81c.8-.78.8-2.07 0-2.86zM5.41 20L4 18.59l7.72-7.72 1.47 1.35L5.41 20z\"/>\n",
              "  </svg>\n",
              "      </button>\n",
              "      \n",
              "  <style>\n",
              "    .colab-df-container {\n",
              "      display:flex;\n",
              "      flex-wrap:wrap;\n",
              "      gap: 12px;\n",
              "    }\n",
              "\n",
              "    .colab-df-convert {\n",
              "      background-color: #E8F0FE;\n",
              "      border: none;\n",
              "      border-radius: 50%;\n",
              "      cursor: pointer;\n",
              "      display: none;\n",
              "      fill: #1967D2;\n",
              "      height: 32px;\n",
              "      padding: 0 0 0 0;\n",
              "      width: 32px;\n",
              "    }\n",
              "\n",
              "    .colab-df-convert:hover {\n",
              "      background-color: #E2EBFA;\n",
              "      box-shadow: 0px 1px 2px rgba(60, 64, 67, 0.3), 0px 1px 3px 1px rgba(60, 64, 67, 0.15);\n",
              "      fill: #174EA6;\n",
              "    }\n",
              "\n",
              "    [theme=dark] .colab-df-convert {\n",
              "      background-color: #3B4455;\n",
              "      fill: #D2E3FC;\n",
              "    }\n",
              "\n",
              "    [theme=dark] .colab-df-convert:hover {\n",
              "      background-color: #434B5C;\n",
              "      box-shadow: 0px 1px 3px 1px rgba(0, 0, 0, 0.15);\n",
              "      filter: drop-shadow(0px 1px 2px rgba(0, 0, 0, 0.3));\n",
              "      fill: #FFFFFF;\n",
              "    }\n",
              "  </style>\n",
              "\n",
              "      <script>\n",
              "        const buttonEl =\n",
              "          document.querySelector('#df-c4d88ff6-0e13-4bc7-bb04-6b11c57ddb5a button.colab-df-convert');\n",
              "        buttonEl.style.display =\n",
              "          google.colab.kernel.accessAllowed ? 'block' : 'none';\n",
              "\n",
              "        async function convertToInteractive(key) {\n",
              "          const element = document.querySelector('#df-c4d88ff6-0e13-4bc7-bb04-6b11c57ddb5a');\n",
              "          const dataTable =\n",
              "            await google.colab.kernel.invokeFunction('convertToInteractive',\n",
              "                                                     [key], {});\n",
              "          if (!dataTable) return;\n",
              "\n",
              "          const docLinkHtml = 'Like what you see? Visit the ' +\n",
              "            '<a target=\"_blank\" href=https://colab.research.google.com/notebooks/data_table.ipynb>data table notebook</a>'\n",
              "            + ' to learn more about interactive tables.';\n",
              "          element.innerHTML = '';\n",
              "          dataTable['output_type'] = 'display_data';\n",
              "          await google.colab.output.renderOutput(dataTable, element);\n",
              "          const docLink = document.createElement('div');\n",
              "          docLink.innerHTML = docLinkHtml;\n",
              "          element.appendChild(docLink);\n",
              "        }\n",
              "      </script>\n",
              "    </div>\n",
              "  </div>\n",
              "  "
            ]
          },
          "metadata": {},
          "execution_count": 5
        }
      ]
    },
    {
      "cell_type": "code",
      "source": [
        "#checking column data types\n",
        "transactions.dtypes"
      ],
      "metadata": {
        "id": "5MPf0uPizeQ6",
        "colab": {
          "base_uri": "https://localhost:8080/"
        },
        "outputId": "27bb84bc-c48a-41e9-82f9-ebcbed44aed4"
      },
      "execution_count": 6,
      "outputs": [
        {
          "output_type": "execute_result",
          "data": {
            "text/plain": [
              "t_dat                object\n",
              "customer_id          object\n",
              "article_id            int64\n",
              "price               float64\n",
              "sales_channel_id      int64\n",
              "dtype: object"
            ]
          },
          "metadata": {},
          "execution_count": 6
        }
      ]
    },
    {
      "cell_type": "code",
      "source": [
        "#Change Transaction Date to appropriate datetime object\n",
        "transactions['t_dat'] = pd.to_datetime(transactions['t_dat'])\n",
        "transactions['t_dat']"
      ],
      "metadata": {
        "id": "OjSWDCRozeEq",
        "colab": {
          "base_uri": "https://localhost:8080/"
        },
        "outputId": "939cb89e-a59e-41f9-c590-e0c0c9eee478"
      },
      "execution_count": 7,
      "outputs": [
        {
          "output_type": "execute_result",
          "data": {
            "text/plain": [
              "0          2018-09-20\n",
              "1          2018-09-20\n",
              "2          2018-09-20\n",
              "3          2018-09-20\n",
              "4          2018-09-20\n",
              "              ...    \n",
              "31788319   2020-09-22\n",
              "31788320   2020-09-22\n",
              "31788321   2020-09-22\n",
              "31788322   2020-09-22\n",
              "31788323   2020-09-22\n",
              "Name: t_dat, Length: 31788324, dtype: datetime64[ns]"
            ]
          },
          "metadata": {},
          "execution_count": 7
        }
      ]
    },
    {
      "cell_type": "markdown",
      "source": [
        "* Data spans from 20-09-2018 to 22-09-2020 covering 2 years of transactions.\n",
        "* Data includes more than 31 million transactions."
      ],
      "metadata": {
        "id": "voPZO09QzoJk"
      }
    },
    {
      "cell_type": "code",
      "source": [
        "#Checking for missing values\n",
        "transactions.isna().any()"
      ],
      "metadata": {
        "id": "2pi3CIUUzd-s",
        "colab": {
          "base_uri": "https://localhost:8080/"
        },
        "outputId": "cf5206e4-ef91-4656-d4e6-8d524d377dc1"
      },
      "execution_count": 8,
      "outputs": [
        {
          "output_type": "execute_result",
          "data": {
            "text/plain": [
              "t_dat               False\n",
              "customer_id         False\n",
              "article_id          False\n",
              "price               False\n",
              "sales_channel_id    False\n",
              "dtype: bool"
            ]
          },
          "metadata": {},
          "execution_count": 8
        }
      ]
    },
    {
      "cell_type": "code",
      "source": [
        "#Checking frequency of transactions by customers\n",
        "transactions_by_customer = transactions.customer_id.value_counts()\n",
        "transactions_by_customer"
      ],
      "metadata": {
        "colab": {
          "base_uri": "https://localhost:8080/"
        },
        "id": "9udb71xJ10ru",
        "outputId": "3bd7d8c7-fdf0-4600-e0bc-01535bdf659e"
      },
      "execution_count": 19,
      "outputs": [
        {
          "output_type": "execute_result",
          "data": {
            "text/plain": [
              "be1981ab818cf4ef6765b2ecaea7a2cbf14ccd6e8a7ee985513d9e8e53c6d91b    1895\n",
              "b4db5e5259234574edfff958e170fe3a5e13b6f146752ca066abca3c156acc71    1441\n",
              "49beaacac0c7801c2ce2d189efe525fe80b5d37e46ed05b50a4cd88e34d0748f    1364\n",
              "a65f77281a528bf5c1e9f270141d601d116e1df33bf9df512f495ee06647a9cc    1361\n",
              "cd04ec2726dd58a8c753e0d6423e57716fd9ebcf2f14ed6012e7e5bea016b4d6    1237\n",
              "                                                                    ... \n",
              "63b70b71291668f0a63ade8e321fb3eccb80eba164f2087dad471de065f18e1f       1\n",
              "950b172c36d169bf427545991fe66371f21a085799b44780fdcb2da6a3091613       1\n",
              "7c284f13f4af9d6a53f97279381638ed0cb7afaa4fd4f3eaadc21993ea45fc69       1\n",
              "62d49d0ae11a4f65fa31e354cb87f6b557ebec648e0e5e71435d2dd190d1ccc4       1\n",
              "268eaa31a07d6f2f4f060bfcf32a660f3ea3dbb21ef14cd09fc2545f4e0b5c10       1\n",
              "Name: customer_id, Length: 1362281, dtype: int64"
            ]
          },
          "metadata": {},
          "execution_count": 19
        }
      ]
    },
    {
      "cell_type": "code",
      "source": [
        "#What about the distribution of frequencies\n",
        "pd.set_option('float_format', '{:f}'.format) #to view full numeric value\n",
        "transactions_by_customer.describe()"
      ],
      "metadata": {
        "id": "ZsmSSX-EzdmY",
        "colab": {
          "base_uri": "https://localhost:8080/"
        },
        "outputId": "800a5f10-0cd7-48d4-ae43-c30722849735"
      },
      "execution_count": 20,
      "outputs": [
        {
          "output_type": "execute_result",
          "data": {
            "text/plain": [
              "count   1362281.000000\n",
              "mean         23.334631\n",
              "std          39.242253\n",
              "min           1.000000\n",
              "25%           3.000000\n",
              "50%           9.000000\n",
              "75%          27.000000\n",
              "max        1895.000000\n",
              "Name: customer_id, dtype: float64"
            ]
          },
          "metadata": {},
          "execution_count": 20
        }
      ]
    },
    {
      "cell_type": "code",
      "source": [
        "transactions_by_customer.quantile(.99998)"
      ],
      "metadata": {
        "colab": {
          "base_uri": "https://localhost:8080/"
        },
        "id": "icNIIBPm5y0A",
        "outputId": "fb7d70db-f608-4de1-8edd-77d794a89208"
      },
      "execution_count": 31,
      "outputs": [
        {
          "output_type": "execute_result",
          "data": {
            "text/plain": [
              "944.0528000025079"
            ]
          },
          "metadata": {},
          "execution_count": 31
        }
      ]
    },
    {
      "cell_type": "markdown",
      "source": [
        "We have over 1.3 million unique customers.\n",
        "\n",
        "Just 0.002% of the customers are responsible for half of the transactions."
      ],
      "metadata": {
        "id": "fE4mklLuz-st"
      }
    },
    {
      "cell_type": "code",
      "source": [
        "#Top 20 customers\n",
        "transactions_by_customer.head(20)"
      ],
      "metadata": {
        "colab": {
          "base_uri": "https://localhost:8080/"
        },
        "id": "V4ywvvBD6vpQ",
        "outputId": "7b68fa6d-1199-4612-d290-7c2b6d0fa094"
      },
      "execution_count": 35,
      "outputs": [
        {
          "output_type": "execute_result",
          "data": {
            "text/plain": [
              "be1981ab818cf4ef6765b2ecaea7a2cbf14ccd6e8a7ee985513d9e8e53c6d91b    1895\n",
              "b4db5e5259234574edfff958e170fe3a5e13b6f146752ca066abca3c156acc71    1441\n",
              "49beaacac0c7801c2ce2d189efe525fe80b5d37e46ed05b50a4cd88e34d0748f    1364\n",
              "a65f77281a528bf5c1e9f270141d601d116e1df33bf9df512f495ee06647a9cc    1361\n",
              "cd04ec2726dd58a8c753e0d6423e57716fd9ebcf2f14ed6012e7e5bea016b4d6    1237\n",
              "55d15396193dfd45836af3a6269a079efea339e875eff42cc0c228b002548a9d    1208\n",
              "c140410d72a41ee5e2e3ba3d7f5a860f337f1b5e41c27cf9bda5517c8774f8fa    1170\n",
              "8df45859ccd71ef1e48e2ee9d1c65d5728c31c46ae957d659fa4e5c3af6cc076    1169\n",
              "03d0011487606c37c1b1ed147fc72f285a50c05f00b9712e0fc3da400c864296    1157\n",
              "6cc121e5cc202d2bf344ffe795002bdbf87178054bcda2e57161f0ef810a4b55    1143\n",
              "e34f8aa5e7c8c258523ea3e5f5f13168b6c21a9e8bffccd515dd5cef56126efb    1117\n",
              "3493c55a7fe252c84a9a03db338f5be7afbce1edbca12f3a908fac9b983692f2    1115\n",
              "0bf4c6fd4e9d33f9bfb807bb78348cbf5c565846ff4006acf5c1b9aea77b0e54    1099\n",
              "e6498c7514c61d3c24669f49753dc83fdff3ec1ba13902dd9184c959d8f0b249    1068\n",
              "d80ed4ababfa96812e22b911629e6bcbf5093769051ea447e2b696ac98a3dae9    1066\n",
              "1320d4b3dd6481cde05bb80fb7ca37397f70470b9afb96aeca5d41175acaf836    1059\n",
              "a76cf5ea515d09f22b7fe3e8ea3c1944316bd6264a90e26cef126242ef3c5e11    1038\n",
              "e238725cbff3774b711407cc000f42c0ddabf6b07eb0e311ffb5fc72e862a34b    1022\n",
              "689f4eda82fdf3d9bfe8e524bbd0d931c4d7690f2234d3e48779f924aaf4103d    1022\n",
              "e97c3a6c680cd3569df10f901a61fdffaf8f70300f6adf6e266b80c87d54245a    1009\n",
              "Name: customer_id, dtype: int64"
            ]
          },
          "metadata": {},
          "execution_count": 35
        }
      ]
    },
    {
      "cell_type": "markdown",
      "source": [
        "I am curious to see what the buying habits of those customers are. Lets explore it later."
      ],
      "metadata": {
        "id": "rrOPiSc_71C0"
      }
    },
    {
      "cell_type": "code",
      "source": [
        "# Frequency of transactions by article\n",
        "transactions_by_article = transactions.article_id.value_counts()\n",
        "transactions_by_article"
      ],
      "metadata": {
        "id": "8a96B0dfz2Pq",
        "colab": {
          "base_uri": "https://localhost:8080/"
        },
        "outputId": "f03b414e-f58f-4333-83bd-8f9d4f60506d"
      },
      "execution_count": 39,
      "outputs": [
        {
          "output_type": "execute_result",
          "data": {
            "text/plain": [
              "706016001    50287\n",
              "706016002    35043\n",
              "372860001    31718\n",
              "610776002    30199\n",
              "759871002    26329\n",
              "             ...  \n",
              "520736002        1\n",
              "619777003        1\n",
              "586904003        1\n",
              "512385003        1\n",
              "533261032        1\n",
              "Name: article_id, Length: 104547, dtype: int64"
            ]
          },
          "metadata": {},
          "execution_count": 39
        }
      ]
    },
    {
      "cell_type": "code",
      "source": [
        "transactions_by_article.quantile(.99999999)"
      ],
      "metadata": {
        "colab": {
          "base_uri": "https://localhost:8080/"
        },
        "id": "no0ZirE08o6L",
        "outputId": "17d6fdda-35b1-42c3-b33d-d94f172f8e11"
      },
      "execution_count": 58,
      "outputs": [
        {
          "output_type": "execute_result",
          "data": {
            "text/plain": [
              "50271.063007571094"
            ]
          },
          "metadata": {},
          "execution_count": 58
        }
      ]
    },
    {
      "cell_type": "markdown",
      "source": [
        "We have around a 100k unique items purchased\n",
        "\n",
        "Only a small fraction of the articles are responsible for half of transactions"
      ],
      "metadata": {
        "id": "4X4JwojH0LhZ"
      }
    },
    {
      "cell_type": "code",
      "source": [
        "# We will also check these extremely high purchased articles later as well\n",
        "transactions_by_article.head(15)"
      ],
      "metadata": {
        "colab": {
          "base_uri": "https://localhost:8080/"
        },
        "id": "PQretNlV-It1",
        "outputId": "71feaf4b-59ac-4ded-cf53-2714a223f43b"
      },
      "execution_count": 64,
      "outputs": [
        {
          "output_type": "execute_result",
          "data": {
            "text/plain": [
              "706016001    50287\n",
              "706016002    35043\n",
              "372860001    31718\n",
              "610776002    30199\n",
              "759871002    26329\n",
              "464297007    25025\n",
              "372860002    24458\n",
              "610776001    22451\n",
              "399223001    22236\n",
              "706016003    21241\n",
              "720125001    21063\n",
              "156231001    21013\n",
              "562245046    20719\n",
              "562245001    20464\n",
              "351484002    20415\n",
              "Name: article_id, dtype: int64"
            ]
          },
          "metadata": {},
          "execution_count": 64
        }
      ]
    },
    {
      "cell_type": "markdown",
      "source": [
        "**Costumer_id and Article_id are foreign keys used to join the data later on.**"
      ],
      "metadata": {
        "id": "4VpG5M3K0j8j"
      }
    },
    {
      "cell_type": "code",
      "source": [
        "#Price column represent price per transaction\n",
        "#Let's check out some characteristics\n",
        "#prices are scaled in the dataset and do not show actual value\n",
        "transactions.price.describe()"
      ],
      "metadata": {
        "id": "CllBmD1g0IEB",
        "colab": {
          "base_uri": "https://localhost:8080/"
        },
        "outputId": "20c2d453-f286-4ca2-8d15-81d8897cc5f4"
      },
      "execution_count": 65,
      "outputs": [
        {
          "output_type": "execute_result",
          "data": {
            "text/plain": [
              "count   31788324.000000\n",
              "mean           0.027829\n",
              "std            0.019181\n",
              "min            0.000017\n",
              "25%            0.015814\n",
              "50%            0.025407\n",
              "75%            0.033881\n",
              "max            0.591525\n",
              "Name: price, dtype: float64"
            ]
          },
          "metadata": {},
          "execution_count": 65
        }
      ]
    },
    {
      "cell_type": "code",
      "source": [
        "#How much difference there is in transactions prices?\n",
        "maxmin = transactions.price.max()/transactions.price.min()\n",
        "print('highest transaction price is %s times the lowest transaction price per date' % int(maxmin))"
      ],
      "metadata": {
        "id": "_NfVoWjb0Pjh",
        "colab": {
          "base_uri": "https://localhost:8080/"
        },
        "outputId": "ed986315-97ad-45c9-a0dd-340f0e9a5f01"
      },
      "execution_count": 66,
      "outputs": [
        {
          "output_type": "stream",
          "name": "stdout",
          "text": [
            "highest transaction price is 34900 times the lowest transaction price per date\n"
          ]
        }
      ]
    },
    {
      "cell_type": "code",
      "source": [
        "#plotting total transaction prices per date\n",
        "transaction_per_date = transactions.groupby('t_dat')['price'].sum()\n",
        "transaction_per_date.plot(figsize = (16,9))"
      ],
      "metadata": {
        "id": "WWGbEWG-0ULr"
      },
      "execution_count": null,
      "outputs": []
    },
    {
      "cell_type": "markdown",
      "source": [
        "**It seems like there is a spike in transaction values in certain dates, let's check them**"
      ],
      "metadata": {
        "id": "VyXxOApM0Yzr"
      }
    },
    {
      "cell_type": "code",
      "source": [
        "transaction_spike = transaction_per_date[transaction_per_date.values > 3000]\n",
        "pd.Series(transaction_spike.values, transaction_spike.index.day_name())"
      ],
      "metadata": {
        "id": "lBlayhVo0ZXq"
      },
      "execution_count": null,
      "outputs": []
    },
    {
      "cell_type": "markdown",
      "source": [
        "* We see some patterns in the spike, weekends are good days for H&M, especially the last saturday of september\n",
        "* We will stop there for now, there is still much to explore like monthly fluctuations and days of week and holidays but they are outside the scope of this work"
      ],
      "metadata": {
        "id": "j3rLSelE0fX9"
      }
    },
    {
      "cell_type": "code",
      "source": [
        "transactions.sales_channel_id.value_counts()"
      ],
      "metadata": {
        "id": "fhvcG8W90cxk"
      },
      "execution_count": null,
      "outputs": []
    },
    {
      "cell_type": "markdown",
      "source": [
        "Sales channel represent the method of selling, either 2:ONLINE or 1:OFFLINE"
      ],
      "metadata": {
        "id": "01RPVCOm0l6-"
      }
    },
    {
      "cell_type": "markdown",
      "source": [
        "# Customer Data"
      ],
      "metadata": {
        "id": "IuONUUsK0qCg"
      }
    },
    {
      "cell_type": "code",
      "source": [
        "customers.head(7)"
      ],
      "metadata": {
        "id": "3Kh7aeLL0cpH"
      },
      "execution_count": null,
      "outputs": []
    },
    {
      "cell_type": "code",
      "source": [
        "customers.groupby('customer_id')['age'].mean()"
      ],
      "metadata": {
        "id": "V_FEGVcL0wh5"
      },
      "execution_count": null,
      "outputs": []
    },
    {
      "cell_type": "code",
      "source": [
        "#customers.dtypes\n",
        "customers.info()"
      ],
      "metadata": {
        "id": "tnbvqr7R04t5"
      },
      "execution_count": null,
      "outputs": []
    },
    {
      "cell_type": "code",
      "source": [
        "#checking for missing values\n",
        "customers.isna().any()"
      ],
      "metadata": {
        "id": "DXAwaMo809WH"
      },
      "execution_count": null,
      "outputs": []
    },
    {
      "cell_type": "markdown",
      "source": [
        "We have lots of missing values, we will explore each column and assess how to deal with each"
      ],
      "metadata": {
        "id": "PTmgBQie1F1N"
      }
    },
    {
      "cell_type": "code",
      "source": [
        "#FN indicates if a customer get Fashion News newsletter\n",
        "customers.FN.value_counts()"
      ],
      "metadata": {
        "id": "3wNlgMoL0_84"
      },
      "execution_count": null,
      "outputs": []
    },
    {
      "cell_type": "code",
      "source": [
        "#FN represents if customer get Fashion News newsletter 1:yes, 0:no\n",
        "#fiiling NA with 0 and converting values to integers\n",
        "customers.FN = customers.FN.fillna(value=0).astype(int)"
      ],
      "metadata": {
        "id": "I5pXQOJg0_5r"
      },
      "execution_count": null,
      "outputs": []
    },
    {
      "cell_type": "code",
      "source": [
        "#Active indicates if the customer is active for communication\n",
        "customers.Active.value_counts()"
      ],
      "metadata": {
        "id": "hUNDCV471Nt6"
      },
      "execution_count": null,
      "outputs": []
    },
    {
      "cell_type": "code",
      "source": [
        "#Again filling missing values with 0 >>> 1:active, 0:not active\n",
        "customers.Active = customers.Active.fillna(value=0).astype(int)"
      ],
      "metadata": {
        "id": "edRcAq0r1Nlz"
      },
      "execution_count": null,
      "outputs": []
    },
    {
      "cell_type": "code",
      "source": [
        "#checking whether a customer is a club member\n",
        "customers.club_member_status.value_counts()"
      ],
      "metadata": {
        "id": "tFzYdh-k1TC4"
      },
      "execution_count": null,
      "outputs": []
    },
    {
      "cell_type": "code",
      "source": [
        "#How many missing values we have?\n",
        "customers.club_member_status.isna().value_counts()"
      ],
      "metadata": {
        "id": "zGI5lXOX1V4H"
      },
      "execution_count": null,
      "outputs": []
    },
    {
      "cell_type": "code",
      "source": [
        "#missing values seem to indicate a not a club member status so will fill it in as such\n",
        "customers.club_member_status = customers.club_member_status.fillna(value='NOT_IN_CLUB')"
      ],
      "metadata": {
        "id": "DuTvD8WI1ZZK"
      },
      "execution_count": null,
      "outputs": []
    },
    {
      "cell_type": "code",
      "source": [
        "#indicates how often a customer interacts with fashion news\n",
        "customers.fashion_news_frequency.value_counts()"
      ],
      "metadata": {
        "id": "kgyKJprD1cQF"
      },
      "execution_count": null,
      "outputs": []
    },
    {
      "cell_type": "code",
      "source": [
        "customers.fashion_news_frequency.isna().value_counts()"
      ],
      "metadata": {
        "id": "9Iuvb2Zs1cIl"
      },
      "execution_count": null,
      "outputs": []
    },
    {
      "cell_type": "code",
      "source": [
        "#We have redundant NONE with different capitalisation, and we will deal with missing vaues as NONE as well\n",
        "customers.fashion_news_frequency = customers.fashion_news_frequency.fillna(value='NONE')\n",
        "customers.fashion_news_frequency = customers.fashion_news_frequency.replace('None','NONE')"
      ],
      "metadata": {
        "id": "7wOPZQjT1hhF"
      },
      "execution_count": null,
      "outputs": []
    },
    {
      "cell_type": "code",
      "source": [
        "#Age missing values is going to be tricky, will try different techniques after exploring the vaues\n",
        "customers.age.isna().value_counts()"
      ],
      "metadata": {
        "id": "qQ_es2QL1hZa"
      },
      "execution_count": null,
      "outputs": []
    },
    {
      "cell_type": "code",
      "source": [
        "customers.age.hist()"
      ],
      "metadata": {
        "id": "wd1cRf2v1m17"
      },
      "execution_count": null,
      "outputs": []
    },
    {
      "cell_type": "code",
      "source": [
        "customers[customers.age.isna()]"
      ],
      "metadata": {
        "id": "SQu66KcB1mvF"
      },
      "execution_count": null,
      "outputs": []
    },
    {
      "cell_type": "markdown",
      "source": [
        "* **We can fill in age missing values with mean but I will postpone this until after I explore the article dataset, maybe purchase type might give a hint about the age group!**\n",
        "* **Other columns do not seem to be good indicators of age**"
      ],
      "metadata": {
        "id": "95gjl0mc1uZ-"
      }
    },
    {
      "cell_type": "markdown",
      "source": [
        "# Article Data"
      ],
      "metadata": {
        "id": "4bs9FgiK1yLv"
      }
    },
    {
      "cell_type": "code",
      "source": [
        "articles.head(10)"
      ],
      "metadata": {
        "id": "eh20U4c_1reW"
      },
      "execution_count": null,
      "outputs": []
    },
    {
      "cell_type": "code",
      "source": [
        "articles.info()"
      ],
      "metadata": {
        "id": "3u0sQhIR1rYU"
      },
      "execution_count": null,
      "outputs": []
    },
    {
      "cell_type": "markdown",
      "source": [
        "**seems like we only have missing values in the 'detail_desc' column**"
      ],
      "metadata": {
        "id": "S3UffhEH1_2Z"
      }
    },
    {
      "cell_type": "code",
      "source": [
        "articles.corr()"
      ],
      "metadata": {
        "id": "I2gPg0f82Abw"
      },
      "execution_count": null,
      "outputs": []
    },
    {
      "cell_type": "code",
      "source": [
        "#Dropping duplicate columns containing string values for speed\n",
        "articles.drop(['prod_name', 'product_type_name', 'product_group_name', 'graphical_appearance_name', 'colour_group_name',\n",
        "               'perceived_colour_value_name', 'perceived_colour_master_name',\n",
        "               'department_name', 'index_name',\n",
        "               'index_group_name', 'section_name',\n",
        "               'garment_group_name'], axis=1, inplace=True)"
      ],
      "metadata": {
        "id": "H-e9mEXK2Egd"
      },
      "execution_count": null,
      "outputs": []
    },
    {
      "cell_type": "code",
      "source": [
        "articles.head()"
      ],
      "metadata": {
        "id": "-246R06s2HOG"
      },
      "execution_count": null,
      "outputs": []
    },
    {
      "cell_type": "code",
      "source": [
        "#Joining the data so we can do different kinds of groupings and study relationships in the data\n",
        "merged = pd.merge(transactions, customers, on=\"customer_id\")\n",
        "merged = pd.merge(merged, articles, on=\"article_id\")"
      ],
      "metadata": {
        "id": "EY5O5DjF2J0y"
      },
      "execution_count": null,
      "outputs": []
    },
    {
      "cell_type": "code",
      "source": [
        "merged.head()"
      ],
      "metadata": {
        "id": "-Ki7A8DL2NAF"
      },
      "execution_count": null,
      "outputs": []
    },
    {
      "cell_type": "code",
      "source": [
        "merged.age.isna().value_counts()\n",
        "merged.groupby('product_type_no')['age'].mean()"
      ],
      "metadata": {
        "id": "RHlvmyl_2M20"
      },
      "execution_count": null,
      "outputs": []
    },
    {
      "cell_type": "markdown",
      "source": [
        "There are some variations in average age buying batterns of specific product types, it is definitely a better indicator of age missing values that just the mean of all values.\n",
        "We will fill the missing age values with the appropriate age means"
      ],
      "metadata": {
        "id": "j9tPaNGC2VD-"
      }
    },
    {
      "cell_type": "code",
      "source": [
        "merged['age'] = merged['age'].fillna(merged.groupby('product_type_no')['age'].transform('mean'))\n",
        "merged['age'] = merged.age.astype(int)"
      ],
      "metadata": {
        "id": "BiB9Hies2Rtr"
      },
      "execution_count": null,
      "outputs": []
    },
    {
      "cell_type": "code",
      "source": [
        "merged.age.isna().any()"
      ],
      "metadata": {
        "id": "cO35fA4_2Rlz"
      },
      "execution_count": null,
      "outputs": []
    },
    {
      "cell_type": "code",
      "source": [
        "merged.age.value_counts()"
      ],
      "metadata": {
        "id": "t3ouO17d2hL1"
      },
      "execution_count": null,
      "outputs": []
    },
    {
      "cell_type": "markdown",
      "source": [
        "It is recommended at times to do bins for the age groups. However, since there are a lot of records for each age, then it is best to keep it as a continuos value and avoid loss of information"
      ],
      "metadata": {
        "id": "dC9Iz3UJ2m3B"
      }
    },
    {
      "cell_type": "code",
      "source": [
        "#merged.corr()"
      ],
      "metadata": {
        "id": "AtFBeHUG2lw3"
      },
      "execution_count": null,
      "outputs": []
    },
    {
      "cell_type": "code",
      "source": [
        "from lightfm import LightFM"
      ],
      "metadata": {
        "id": "UgBJbnax2v6k"
      },
      "execution_count": null,
      "outputs": []
    }
  ]
}